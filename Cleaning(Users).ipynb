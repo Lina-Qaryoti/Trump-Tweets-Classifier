{
 "cells": [
  {
   "cell_type": "code",
   "execution_count": 2,
   "metadata": {},
   "outputs": [],
   "source": [
    "import os\n",
    "import numpy as np\n",
    "import pandas as pd\n",
    "import csv"
   ]
  },
  {
   "cell_type": "code",
   "execution_count": 3,
   "metadata": {},
   "outputs": [
    {
     "data": {
      "text/html": [
       "<div>\n",
       "<style scoped>\n",
       "    .dataframe tbody tr th:only-of-type {\n",
       "        vertical-align: middle;\n",
       "    }\n",
       "\n",
       "    .dataframe tbody tr th {\n",
       "        vertical-align: top;\n",
       "    }\n",
       "\n",
       "    .dataframe thead th {\n",
       "        text-align: right;\n",
       "    }\n",
       "</style>\n",
       "<table border=\"1\" class=\"dataframe\">\n",
       "  <thead>\n",
       "    <tr style=\"text-align: right;\">\n",
       "      <th></th>\n",
       "      <th>text</th>\n",
       "      <th>time</th>\n",
       "    </tr>\n",
       "  </thead>\n",
       "  <tbody>\n",
       "    <tr>\n",
       "      <th>0</th>\n",
       "      <td>Canât stand a person who canât do shit wit...</td>\n",
       "      <td>2019-06-01 19:46:53+00:00</td>\n",
       "    </tr>\n",
       "    <tr>\n",
       "      <th>1</th>\n",
       "      <td>They must have been brainwashed or something....</td>\n",
       "      <td>2019-05-30 16:38:43+00:00</td>\n",
       "    </tr>\n",
       "    <tr>\n",
       "      <th>2</th>\n",
       "      <td>Lmao you literally think a sign of Muslim dom...</td>\n",
       "      <td>2019-05-30 13:08:12+00:00</td>\n",
       "    </tr>\n",
       "    <tr>\n",
       "      <th>3</th>\n",
       "      <td>Raptors in 4</td>\n",
       "      <td>2019-05-31 04:17:56+00:00</td>\n",
       "    </tr>\n",
       "    <tr>\n",
       "      <th>4</th>\n",
       "      <td>This asshole is subverting American government</td>\n",
       "      <td>2019-05-30 13:18:10+00:00</td>\n",
       "    </tr>\n",
       "    <tr>\n",
       "      <th>5</th>\n",
       "      <td>Awesome superb trailerð</td>\n",
       "      <td>2019-05-31 04:46:43+00:00</td>\n",
       "    </tr>\n",
       "    <tr>\n",
       "      <th>6</th>\n",
       "      <td>Where have you been. We haven't played a g...</td>\n",
       "      <td>2019-06-01 19:44:04+00:00</td>\n",
       "    </tr>\n",
       "    <tr>\n",
       "      <th>7</th>\n",
       "      <td>I hope bear eats Barr in Alaska!! -</td>\n",
       "      <td>2019-06-01 19:44:01+00:00</td>\n",
       "    </tr>\n",
       "    <tr>\n",
       "      <th>8</th>\n",
       "      <td>I just donated to ! The next few letters and t...</td>\n",
       "      <td>2019-05-31 04:38:01+00:00</td>\n",
       "    </tr>\n",
       "    <tr>\n",
       "      <th>9</th>\n",
       "      <td>Youâre beautiful!! Keep doing your brows!! ð</td>\n",
       "      <td>2019-05-30 16:38:11+00:00</td>\n",
       "    </tr>\n",
       "  </tbody>\n",
       "</table>\n",
       "</div>"
      ],
      "text/plain": [
       "                                                text  \\\n",
       "0  Canât stand a person who canât do shit wit...   \n",
       "1   They must have been brainwashed or something....   \n",
       "2   Lmao you literally think a sign of Muslim dom...   \n",
       "3                                       Raptors in 4   \n",
       "4     This asshole is subverting American government   \n",
       "5                         Awesome superb trailerð   \n",
       "6      Where have you been. We haven't played a g...   \n",
       "7                I hope bear eats Barr in Alaska!! -   \n",
       "8  I just donated to ! The next few letters and t...   \n",
       "9  Youâre beautiful!! Keep doing your brows!! ð   \n",
       "\n",
       "                        time  \n",
       "0  2019-06-01 19:46:53+00:00  \n",
       "1  2019-05-30 16:38:43+00:00  \n",
       "2  2019-05-30 13:08:12+00:00  \n",
       "3  2019-05-31 04:17:56+00:00  \n",
       "4  2019-05-30 13:18:10+00:00  \n",
       "5  2019-05-31 04:46:43+00:00  \n",
       "6  2019-06-01 19:44:04+00:00  \n",
       "7  2019-06-01 19:44:01+00:00  \n",
       "8  2019-05-31 04:38:01+00:00  \n",
       "9  2019-05-30 16:38:11+00:00  "
      ]
     },
     "execution_count": 3,
     "metadata": {},
     "output_type": "execute_result"
    }
   ],
   "source": [
    "users_tweets = pd.read_csv(r\"C:\\Users\\munth\\Desktop\\Uni\\Machine Learning\\Project\\Users.csv\", encoding='latin-1')\n",
    "users_tweets.head(n=10)"
   ]
  },
  {
   "cell_type": "code",
   "execution_count": 4,
   "metadata": {},
   "outputs": [
    {
     "data": {
      "text/plain": [
       "text    0\n",
       "time    0\n",
       "dtype: int64"
      ]
     },
     "execution_count": 4,
     "metadata": {},
     "output_type": "execute_result"
    }
   ],
   "source": [
    "users_tweets.isnull().sum()"
   ]
  },
  {
   "cell_type": "code",
   "execution_count": 5,
   "metadata": {},
   "outputs": [
    {
     "name": "stdout",
     "output_type": "stream",
     "text": [
      "<class 'pandas.core.frame.DataFrame'>\n",
      "RangeIndex: 55512 entries, 0 to 55511\n",
      "Data columns (total 2 columns):\n",
      "text    55512 non-null object\n",
      "time    55512 non-null object\n",
      "dtypes: object(2)\n",
      "memory usage: 867.5+ KB\n"
     ]
    }
   ],
   "source": [
    "users_tweets.info()"
   ]
  },
  {
   "cell_type": "code",
   "execution_count": 6,
   "metadata": {},
   "outputs": [
    {
     "data": {
      "text/html": [
       "<div>\n",
       "<style scoped>\n",
       "    .dataframe tbody tr th:only-of-type {\n",
       "        vertical-align: middle;\n",
       "    }\n",
       "\n",
       "    .dataframe tbody tr th {\n",
       "        vertical-align: top;\n",
       "    }\n",
       "\n",
       "    .dataframe thead th {\n",
       "        text-align: right;\n",
       "    }\n",
       "</style>\n",
       "<table border=\"1\" class=\"dataframe\">\n",
       "  <thead>\n",
       "    <tr style=\"text-align: right;\">\n",
       "      <th></th>\n",
       "      <th>text</th>\n",
       "      <th>time</th>\n",
       "      <th>date</th>\n",
       "    </tr>\n",
       "  </thead>\n",
       "  <tbody>\n",
       "    <tr>\n",
       "      <th>0</th>\n",
       "      <td>Canât stand a person who canât do shit wit...</td>\n",
       "      <td>19:46:53+00:00</td>\n",
       "      <td>2019-06-01</td>\n",
       "    </tr>\n",
       "    <tr>\n",
       "      <th>1</th>\n",
       "      <td>They must have been brainwashed or something....</td>\n",
       "      <td>16:38:43+00:00</td>\n",
       "      <td>2019-05-30</td>\n",
       "    </tr>\n",
       "    <tr>\n",
       "      <th>2</th>\n",
       "      <td>Lmao you literally think a sign of Muslim dom...</td>\n",
       "      <td>13:08:12+00:00</td>\n",
       "      <td>2019-05-30</td>\n",
       "    </tr>\n",
       "    <tr>\n",
       "      <th>3</th>\n",
       "      <td>Raptors in 4</td>\n",
       "      <td>04:17:56+00:00</td>\n",
       "      <td>2019-05-31</td>\n",
       "    </tr>\n",
       "    <tr>\n",
       "      <th>4</th>\n",
       "      <td>This asshole is subverting American government</td>\n",
       "      <td>13:18:10+00:00</td>\n",
       "      <td>2019-05-30</td>\n",
       "    </tr>\n",
       "  </tbody>\n",
       "</table>\n",
       "</div>"
      ],
      "text/plain": [
       "                                                text            time  \\\n",
       "0  Canât stand a person who canât do shit wit...  19:46:53+00:00   \n",
       "1   They must have been brainwashed or something....  16:38:43+00:00   \n",
       "2   Lmao you literally think a sign of Muslim dom...  13:08:12+00:00   \n",
       "3                                       Raptors in 4  04:17:56+00:00   \n",
       "4     This asshole is subverting American government  13:18:10+00:00   \n",
       "\n",
       "         date  \n",
       "0  2019-06-01  \n",
       "1  2019-05-30  \n",
       "2  2019-05-30  \n",
       "3  2019-05-31  \n",
       "4  2019-05-30  "
      ]
     },
     "execution_count": 6,
     "metadata": {},
     "output_type": "execute_result"
    }
   ],
   "source": [
    "#split time and date into two columns\n",
    "users_tweets[['date','time']]= users_tweets.time.str.split(\" \",expand=True)\n",
    "users_tweets.head()"
   ]
  },
  {
   "cell_type": "code",
   "execution_count": 7,
   "metadata": {},
   "outputs": [
    {
     "data": {
      "text/html": [
       "<div>\n",
       "<style scoped>\n",
       "    .dataframe tbody tr th:only-of-type {\n",
       "        vertical-align: middle;\n",
       "    }\n",
       "\n",
       "    .dataframe tbody tr th {\n",
       "        vertical-align: top;\n",
       "    }\n",
       "\n",
       "    .dataframe thead th {\n",
       "        text-align: right;\n",
       "    }\n",
       "</style>\n",
       "<table border=\"1\" class=\"dataframe\">\n",
       "  <thead>\n",
       "    <tr style=\"text-align: right;\">\n",
       "      <th></th>\n",
       "      <th>text</th>\n",
       "      <th>time</th>\n",
       "      <th>date</th>\n",
       "      <th>time2</th>\n",
       "    </tr>\n",
       "  </thead>\n",
       "  <tbody>\n",
       "    <tr>\n",
       "      <th>0</th>\n",
       "      <td>Canât stand a person who canât do shit wit...</td>\n",
       "      <td>19:46:53</td>\n",
       "      <td>2019-06-01</td>\n",
       "      <td>00:00</td>\n",
       "    </tr>\n",
       "    <tr>\n",
       "      <th>1</th>\n",
       "      <td>They must have been brainwashed or something....</td>\n",
       "      <td>16:38:43</td>\n",
       "      <td>2019-05-30</td>\n",
       "      <td>00:00</td>\n",
       "    </tr>\n",
       "    <tr>\n",
       "      <th>2</th>\n",
       "      <td>Lmao you literally think a sign of Muslim dom...</td>\n",
       "      <td>13:08:12</td>\n",
       "      <td>2019-05-30</td>\n",
       "      <td>00:00</td>\n",
       "    </tr>\n",
       "    <tr>\n",
       "      <th>3</th>\n",
       "      <td>Raptors in 4</td>\n",
       "      <td>04:17:56</td>\n",
       "      <td>2019-05-31</td>\n",
       "      <td>00:00</td>\n",
       "    </tr>\n",
       "    <tr>\n",
       "      <th>4</th>\n",
       "      <td>This asshole is subverting American government</td>\n",
       "      <td>13:18:10</td>\n",
       "      <td>2019-05-30</td>\n",
       "      <td>00:00</td>\n",
       "    </tr>\n",
       "  </tbody>\n",
       "</table>\n",
       "</div>"
      ],
      "text/plain": [
       "                                                text      time        date  \\\n",
       "0  Canât stand a person who canât do shit wit...  19:46:53  2019-06-01   \n",
       "1   They must have been brainwashed or something....  16:38:43  2019-05-30   \n",
       "2   Lmao you literally think a sign of Muslim dom...  13:08:12  2019-05-30   \n",
       "3                                       Raptors in 4  04:17:56  2019-05-31   \n",
       "4     This asshole is subverting American government  13:18:10  2019-05-30   \n",
       "\n",
       "   time2  \n",
       "0  00:00  \n",
       "1  00:00  \n",
       "2  00:00  \n",
       "3  00:00  \n",
       "4  00:00  "
      ]
     },
     "execution_count": 7,
     "metadata": {},
     "output_type": "execute_result"
    }
   ],
   "source": [
    "users_tweets[['time','time2']]= users_tweets.time.str.split(\"+\",expand=True)\n",
    "users_tweets.head()"
   ]
  },
  {
   "cell_type": "code",
   "execution_count": 8,
   "metadata": {},
   "outputs": [],
   "source": [
    "#delete the timestamp with all 0s\n",
    "users_tweets.drop(users_tweets.columns[3], axis=1, inplace=True)"
   ]
  },
  {
   "cell_type": "code",
   "execution_count": 9,
   "metadata": {
    "scrolled": true
   },
   "outputs": [
    {
     "data": {
      "text/html": [
       "<div>\n",
       "<style scoped>\n",
       "    .dataframe tbody tr th:only-of-type {\n",
       "        vertical-align: middle;\n",
       "    }\n",
       "\n",
       "    .dataframe tbody tr th {\n",
       "        vertical-align: top;\n",
       "    }\n",
       "\n",
       "    .dataframe thead th {\n",
       "        text-align: right;\n",
       "    }\n",
       "</style>\n",
       "<table border=\"1\" class=\"dataframe\">\n",
       "  <thead>\n",
       "    <tr style=\"text-align: right;\">\n",
       "      <th></th>\n",
       "      <th>text</th>\n",
       "      <th>time</th>\n",
       "      <th>date</th>\n",
       "    </tr>\n",
       "  </thead>\n",
       "  <tbody>\n",
       "    <tr>\n",
       "      <th>0</th>\n",
       "      <td>Canât stand a person who canât do shit wit...</td>\n",
       "      <td>19:46:53</td>\n",
       "      <td>2019-06-01</td>\n",
       "    </tr>\n",
       "    <tr>\n",
       "      <th>1</th>\n",
       "      <td>They must have been brainwashed or something....</td>\n",
       "      <td>16:38:43</td>\n",
       "      <td>2019-05-30</td>\n",
       "    </tr>\n",
       "    <tr>\n",
       "      <th>2</th>\n",
       "      <td>Lmao you literally think a sign of Muslim dom...</td>\n",
       "      <td>13:08:12</td>\n",
       "      <td>2019-05-30</td>\n",
       "    </tr>\n",
       "    <tr>\n",
       "      <th>3</th>\n",
       "      <td>Raptors in 4</td>\n",
       "      <td>04:17:56</td>\n",
       "      <td>2019-05-31</td>\n",
       "    </tr>\n",
       "    <tr>\n",
       "      <th>4</th>\n",
       "      <td>This asshole is subverting American government</td>\n",
       "      <td>13:18:10</td>\n",
       "      <td>2019-05-30</td>\n",
       "    </tr>\n",
       "  </tbody>\n",
       "</table>\n",
       "</div>"
      ],
      "text/plain": [
       "                                                text      time        date\n",
       "0  Canât stand a person who canât do shit wit...  19:46:53  2019-06-01\n",
       "1   They must have been brainwashed or something....  16:38:43  2019-05-30\n",
       "2   Lmao you literally think a sign of Muslim dom...  13:08:12  2019-05-30\n",
       "3                                       Raptors in 4  04:17:56  2019-05-31\n",
       "4     This asshole is subverting American government  13:18:10  2019-05-30"
      ]
     },
     "execution_count": 9,
     "metadata": {},
     "output_type": "execute_result"
    }
   ],
   "source": [
    "users_tweets.head()"
   ]
  },
  {
   "cell_type": "code",
   "execution_count": 10,
   "metadata": {},
   "outputs": [
    {
     "data": {
      "text/plain": [
       "text    0\n",
       "time    2\n",
       "date    0\n",
       "dtype: int64"
      ]
     },
     "execution_count": 10,
     "metadata": {},
     "output_type": "execute_result"
    }
   ],
   "source": [
    "users_tweets.isnull().sum()"
   ]
  },
  {
   "cell_type": "code",
   "execution_count": 11,
   "metadata": {
    "scrolled": true
   },
   "outputs": [],
   "source": [
    "#users_tweets.to_csv(r'C:\\Users\\munth\\Desktop\\Uni\\Machine Learning\\Project\\Users1.csv', index=False) # reformatting the date and time "
   ]
  },
  {
   "cell_type": "code",
   "execution_count": 12,
   "metadata": {},
   "outputs": [
    {
     "data": {
      "text/html": [
       "<div>\n",
       "<style scoped>\n",
       "    .dataframe tbody tr th:only-of-type {\n",
       "        vertical-align: middle;\n",
       "    }\n",
       "\n",
       "    .dataframe tbody tr th {\n",
       "        vertical-align: top;\n",
       "    }\n",
       "\n",
       "    .dataframe thead th {\n",
       "        text-align: right;\n",
       "    }\n",
       "</style>\n",
       "<table border=\"1\" class=\"dataframe\">\n",
       "  <thead>\n",
       "    <tr style=\"text-align: right;\">\n",
       "      <th></th>\n",
       "      <th>text</th>\n",
       "      <th>time</th>\n",
       "      <th>date</th>\n",
       "    </tr>\n",
       "  </thead>\n",
       "  <tbody>\n",
       "    <tr>\n",
       "      <th>0</th>\n",
       "      <td>CanÃ¢ÂÂt stand a person who canÃ¢ÂÂt do sh...</td>\n",
       "      <td>19:46</td>\n",
       "      <td>6/1/19</td>\n",
       "    </tr>\n",
       "    <tr>\n",
       "      <th>1</th>\n",
       "      <td>They must have been brainwashed or something....</td>\n",
       "      <td>16:38</td>\n",
       "      <td>5/30/19</td>\n",
       "    </tr>\n",
       "    <tr>\n",
       "      <th>2</th>\n",
       "      <td>Lmao you literally think a sign of Muslim dom...</td>\n",
       "      <td>13:08</td>\n",
       "      <td>5/30/19</td>\n",
       "    </tr>\n",
       "    <tr>\n",
       "      <th>3</th>\n",
       "      <td>Raptors in 4</td>\n",
       "      <td>4:17</td>\n",
       "      <td>5/31/19</td>\n",
       "    </tr>\n",
       "    <tr>\n",
       "      <th>4</th>\n",
       "      <td>This asshole is subverting American government</td>\n",
       "      <td>13:18</td>\n",
       "      <td>5/30/19</td>\n",
       "    </tr>\n",
       "  </tbody>\n",
       "</table>\n",
       "</div>"
      ],
      "text/plain": [
       "                                                text   time     date\n",
       "0  CanÃ¢ÂÂt stand a person who canÃ¢ÂÂt do sh...  19:46   6/1/19\n",
       "1   They must have been brainwashed or something....  16:38  5/30/19\n",
       "2   Lmao you literally think a sign of Muslim dom...  13:08  5/30/19\n",
       "3                                       Raptors in 4   4:17  5/31/19\n",
       "4     This asshole is subverting American government  13:18  5/30/19"
      ]
     },
     "execution_count": 12,
     "metadata": {},
     "output_type": "execute_result"
    }
   ],
   "source": [
    "users_tweets = pd.read_csv(r\"C:\\Users\\munth\\Desktop\\Uni\\Machine Learning\\Project\\Users1.csv\", encoding='latin-1')\n",
    "users_tweets.head()"
   ]
  },
  {
   "cell_type": "code",
   "execution_count": 13,
   "metadata": {},
   "outputs": [
    {
     "data": {
      "text/plain": [
       "text    0\n",
       "time    2\n",
       "date    0\n",
       "dtype: int64"
      ]
     },
     "execution_count": 13,
     "metadata": {},
     "output_type": "execute_result"
    }
   ],
   "source": [
    "users_tweets.isnull().sum()"
   ]
  },
  {
   "cell_type": "code",
   "execution_count": 14,
   "metadata": {},
   "outputs": [
    {
     "data": {
      "text/html": [
       "<div>\n",
       "<style scoped>\n",
       "    .dataframe tbody tr th:only-of-type {\n",
       "        vertical-align: middle;\n",
       "    }\n",
       "\n",
       "    .dataframe tbody tr th {\n",
       "        vertical-align: top;\n",
       "    }\n",
       "\n",
       "    .dataframe thead th {\n",
       "        text-align: right;\n",
       "    }\n",
       "</style>\n",
       "<table border=\"1\" class=\"dataframe\">\n",
       "  <thead>\n",
       "    <tr style=\"text-align: right;\">\n",
       "      <th></th>\n",
       "      <th>text</th>\n",
       "      <th>time</th>\n",
       "      <th>date</th>\n",
       "    </tr>\n",
       "  </thead>\n",
       "  <tbody>\n",
       "    <tr>\n",
       "      <th>10450</th>\n",
       "      <td>text</td>\n",
       "      <td>NaN</td>\n",
       "      <td>time</td>\n",
       "    </tr>\n",
       "    <tr>\n",
       "      <th>44597</th>\n",
       "      <td>text</td>\n",
       "      <td>NaN</td>\n",
       "      <td>time</td>\n",
       "    </tr>\n",
       "  </tbody>\n",
       "</table>\n",
       "</div>"
      ],
      "text/plain": [
       "       text time  date\n",
       "10450  text  NaN  time\n",
       "44597  text  NaN  time"
      ]
     },
     "execution_count": 14,
     "metadata": {},
     "output_type": "execute_result"
    }
   ],
   "source": [
    "null = users_tweets[users_tweets.isna().any(axis=1)]\n",
    "null"
   ]
  },
  {
   "cell_type": "code",
   "execution_count": 15,
   "metadata": {},
   "outputs": [
    {
     "data": {
      "text/plain": [
       "text    0\n",
       "time    0\n",
       "date    0\n",
       "dtype: int64"
      ]
     },
     "execution_count": 15,
     "metadata": {},
     "output_type": "execute_result"
    }
   ],
   "source": [
    "users_tweets.dropna(subset=['time'], how='all', inplace=True)\n",
    "users_tweets.isnull().sum()"
   ]
  },
  {
   "cell_type": "code",
   "execution_count": 16,
   "metadata": {},
   "outputs": [
    {
     "name": "stdout",
     "output_type": "stream",
     "text": [
      "<class 'pandas.core.frame.DataFrame'>\n",
      "Int64Index: 55510 entries, 0 to 55511\n",
      "Data columns (total 3 columns):\n",
      "text    55510 non-null object\n",
      "time    55510 non-null object\n",
      "date    55510 non-null object\n",
      "dtypes: object(3)\n",
      "memory usage: 1.7+ MB\n"
     ]
    }
   ],
   "source": [
    "users_tweets.info()"
   ]
  },
  {
   "cell_type": "code",
   "execution_count": 17,
   "metadata": {},
   "outputs": [
    {
     "data": {
      "text/html": [
       "<div>\n",
       "<style scoped>\n",
       "    .dataframe tbody tr th:only-of-type {\n",
       "        vertical-align: middle;\n",
       "    }\n",
       "\n",
       "    .dataframe tbody tr th {\n",
       "        vertical-align: top;\n",
       "    }\n",
       "\n",
       "    .dataframe thead th {\n",
       "        text-align: right;\n",
       "    }\n",
       "</style>\n",
       "<table border=\"1\" class=\"dataframe\">\n",
       "  <thead>\n",
       "    <tr style=\"text-align: right;\">\n",
       "      <th></th>\n",
       "      <th>text</th>\n",
       "      <th>date</th>\n",
       "      <th>Hours</th>\n",
       "    </tr>\n",
       "  </thead>\n",
       "  <tbody>\n",
       "    <tr>\n",
       "      <th>0</th>\n",
       "      <td>CanÃ¢ÂÂt stand a person who canÃ¢ÂÂt do sh...</td>\n",
       "      <td>6/1/19</td>\n",
       "      <td>19</td>\n",
       "    </tr>\n",
       "    <tr>\n",
       "      <th>1</th>\n",
       "      <td>They must have been brainwashed or something....</td>\n",
       "      <td>5/30/19</td>\n",
       "      <td>16</td>\n",
       "    </tr>\n",
       "    <tr>\n",
       "      <th>2</th>\n",
       "      <td>Lmao you literally think a sign of Muslim dom...</td>\n",
       "      <td>5/30/19</td>\n",
       "      <td>13</td>\n",
       "    </tr>\n",
       "    <tr>\n",
       "      <th>3</th>\n",
       "      <td>Raptors in 4</td>\n",
       "      <td>5/31/19</td>\n",
       "      <td>4</td>\n",
       "    </tr>\n",
       "    <tr>\n",
       "      <th>4</th>\n",
       "      <td>This asshole is subverting American government</td>\n",
       "      <td>5/30/19</td>\n",
       "      <td>13</td>\n",
       "    </tr>\n",
       "  </tbody>\n",
       "</table>\n",
       "</div>"
      ],
      "text/plain": [
       "                                                text     date Hours\n",
       "0  CanÃ¢ÂÂt stand a person who canÃ¢ÂÂt do sh...   6/1/19    19\n",
       "1   They must have been brainwashed or something....  5/30/19    16\n",
       "2   Lmao you literally think a sign of Muslim dom...  5/30/19    13\n",
       "3                                       Raptors in 4  5/31/19     4\n",
       "4     This asshole is subverting American government  5/30/19    13"
      ]
     },
     "execution_count": 17,
     "metadata": {},
     "output_type": "execute_result"
    }
   ],
   "source": [
    "users_tweets[['Hours','Minutes']]= users_tweets.time.str.split(\":\",expand=True) #split time to hours and minutes\n",
    "users_tweets.drop(users_tweets.columns[1], axis=1, inplace=True) #delete the \"time\" column\n",
    "users_tweets.drop(users_tweets.columns[3], axis=1, inplace=True) #delete the \"minutes\" column\n",
    "users_tweets.head()"
   ]
  },
  {
   "cell_type": "code",
   "execution_count": 18,
   "metadata": {},
   "outputs": [
    {
     "data": {
      "text/html": [
       "<div>\n",
       "<style scoped>\n",
       "    .dataframe tbody tr th:only-of-type {\n",
       "        vertical-align: middle;\n",
       "    }\n",
       "\n",
       "    .dataframe tbody tr th {\n",
       "        vertical-align: top;\n",
       "    }\n",
       "\n",
       "    .dataframe thead th {\n",
       "        text-align: right;\n",
       "    }\n",
       "</style>\n",
       "<table border=\"1\" class=\"dataframe\">\n",
       "  <thead>\n",
       "    <tr style=\"text-align: right;\">\n",
       "      <th></th>\n",
       "      <th>text</th>\n",
       "      <th>date</th>\n",
       "      <th>Hours</th>\n",
       "      <th>Is_Trump</th>\n",
       "    </tr>\n",
       "  </thead>\n",
       "  <tbody>\n",
       "    <tr>\n",
       "      <th>0</th>\n",
       "      <td>CanÃ¢ÂÂt stand a person who canÃ¢ÂÂt do sh...</td>\n",
       "      <td>6/1/19</td>\n",
       "      <td>19</td>\n",
       "      <td>0</td>\n",
       "    </tr>\n",
       "    <tr>\n",
       "      <th>1</th>\n",
       "      <td>They must have been brainwashed or something....</td>\n",
       "      <td>5/30/19</td>\n",
       "      <td>16</td>\n",
       "      <td>0</td>\n",
       "    </tr>\n",
       "    <tr>\n",
       "      <th>2</th>\n",
       "      <td>Lmao you literally think a sign of Muslim dom...</td>\n",
       "      <td>5/30/19</td>\n",
       "      <td>13</td>\n",
       "      <td>0</td>\n",
       "    </tr>\n",
       "    <tr>\n",
       "      <th>3</th>\n",
       "      <td>Raptors in 4</td>\n",
       "      <td>5/31/19</td>\n",
       "      <td>4</td>\n",
       "      <td>0</td>\n",
       "    </tr>\n",
       "    <tr>\n",
       "      <th>4</th>\n",
       "      <td>This asshole is subverting American government</td>\n",
       "      <td>5/30/19</td>\n",
       "      <td>13</td>\n",
       "      <td>0</td>\n",
       "    </tr>\n",
       "  </tbody>\n",
       "</table>\n",
       "</div>"
      ],
      "text/plain": [
       "                                                text     date Hours  Is_Trump\n",
       "0  CanÃ¢ÂÂt stand a person who canÃ¢ÂÂt do sh...   6/1/19    19         0\n",
       "1   They must have been brainwashed or something....  5/30/19    16         0\n",
       "2   Lmao you literally think a sign of Muslim dom...  5/30/19    13         0\n",
       "3                                       Raptors in 4  5/31/19     4         0\n",
       "4     This asshole is subverting American government  5/30/19    13         0"
      ]
     },
     "execution_count": 18,
     "metadata": {},
     "output_type": "execute_result"
    }
   ],
   "source": [
    "users_tweets['Is_Trump'] = 0\n",
    "users_tweets.head()"
   ]
  },
  {
   "cell_type": "code",
   "execution_count": 19,
   "metadata": {},
   "outputs": [
    {
     "name": "stdout",
     "output_type": "stream",
     "text": [
      "<class 'pandas.core.frame.DataFrame'>\n",
      "Int64Index: 55510 entries, 0 to 55511\n",
      "Data columns (total 4 columns):\n",
      "text        55510 non-null object\n",
      "date        55510 non-null object\n",
      "Hours       55510 non-null object\n",
      "Is_Trump    55510 non-null int64\n",
      "dtypes: int64(1), object(3)\n",
      "memory usage: 2.1+ MB\n"
     ]
    }
   ],
   "source": [
    "users_tweets.info()"
   ]
  },
  {
   "cell_type": "code",
   "execution_count": 20,
   "metadata": {},
   "outputs": [],
   "source": [
    "users_tweets.to_csv(r'C:\\Users\\munth\\Desktop\\Uni\\Machine Learning\\Project\\Users2.csv', index=False) #upload final csv for merge3"
   ]
  }
 ],
 "metadata": {
  "kernelspec": {
   "display_name": "Python 3",
   "language": "python",
   "name": "python3"
  },
  "language_info": {
   "codemirror_mode": {
    "name": "ipython",
    "version": 3
   },
   "file_extension": ".py",
   "mimetype": "text/x-python",
   "name": "python",
   "nbconvert_exporter": "python",
   "pygments_lexer": "ipython3",
   "version": "3.7.3"
  }
 },
 "nbformat": 4,
 "nbformat_minor": 2
}
