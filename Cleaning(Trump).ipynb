{
 "cells": [
  {
   "cell_type": "code",
   "execution_count": 2,
   "metadata": {},
   "outputs": [],
   "source": [
    "import os\n",
    "import numpy as np\n",
    "import pandas as pd\n",
    "import csv"
   ]
  },
  {
   "cell_type": "code",
   "execution_count": 3,
   "metadata": {
    "scrolled": true
   },
   "outputs": [
    {
     "data": {
      "text/html": [
       "<div>\n",
       "<style scoped>\n",
       "    .dataframe tbody tr th:only-of-type {\n",
       "        vertical-align: middle;\n",
       "    }\n",
       "\n",
       "    .dataframe tbody tr th {\n",
       "        vertical-align: top;\n",
       "    }\n",
       "\n",
       "    .dataframe thead th {\n",
       "        text-align: right;\n",
       "    }\n",
       "</style>\n",
       "<table border=\"1\" class=\"dataframe\">\n",
       "  <thead>\n",
       "    <tr style=\"text-align: right;\">\n",
       "      <th></th>\n",
       "      <th>text</th>\n",
       "      <th>created_at</th>\n",
       "      <th>retweet_count</th>\n",
       "      <th>favorite_count</th>\n",
       "      <th>is_retweet</th>\n",
       "    </tr>\n",
       "  </thead>\n",
       "  <tbody>\n",
       "    <tr>\n",
       "      <th>0</th>\n",
       "      <td>NaN</td>\n",
       "      <td>NaN</td>\n",
       "      <td>NaN</td>\n",
       "      <td>NaN</td>\n",
       "      <td>NaN</td>\n",
       "    </tr>\n",
       "    <tr>\n",
       "      <th>1</th>\n",
       "      <td>NaN</td>\n",
       "      <td>NaN</td>\n",
       "      <td>NaN</td>\n",
       "      <td>NaN</td>\n",
       "      <td>NaN</td>\n",
       "    </tr>\n",
       "    <tr>\n",
       "      <th>2</th>\n",
       "      <td>NaN</td>\n",
       "      <td>NaN</td>\n",
       "      <td>NaN</td>\n",
       "      <td>NaN</td>\n",
       "      <td>NaN</td>\n",
       "    </tr>\n",
       "    <tr>\n",
       "      <th>3</th>\n",
       "      <td>âThe Chinese say (about Trumpâs Trade War ...</td>\n",
       "      <td>11/11/2019 14:25</td>\n",
       "      <td>8563.0</td>\n",
       "      <td>30193.0</td>\n",
       "      <td>False</td>\n",
       "    </tr>\n",
       "    <tr>\n",
       "      <th>4</th>\n",
       "      <td>Shifty Adam Schiff will only release doctored ...</td>\n",
       "      <td>11/11/2019 14:20</td>\n",
       "      <td>15705.0</td>\n",
       "      <td>52024.0</td>\n",
       "      <td>False</td>\n",
       "    </tr>\n",
       "    <tr>\n",
       "      <th>5</th>\n",
       "      <td>The lawyer for the Whistleblower takes away al...</td>\n",
       "      <td>11/11/2019 14:12</td>\n",
       "      <td>12191.0</td>\n",
       "      <td>42564.0</td>\n",
       "      <td>False</td>\n",
       "    </tr>\n",
       "    <tr>\n",
       "      <th>6</th>\n",
       "      <td>So with one Rally by me at the end of the camp...</td>\n",
       "      <td>11/11/2019 14:09</td>\n",
       "      <td>9291.0</td>\n",
       "      <td>36518.0</td>\n",
       "      <td>False</td>\n",
       "    </tr>\n",
       "    <tr>\n",
       "      <th>7</th>\n",
       "      <td>Will be meeting with representatives of the Va...</td>\n",
       "      <td>11/11/2019 14:00</td>\n",
       "      <td>9002.0</td>\n",
       "      <td>39450.0</td>\n",
       "      <td>False</td>\n",
       "    </tr>\n",
       "    <tr>\n",
       "      <th>8</th>\n",
       "      <td>HAPPY VETERANS DAY!</td>\n",
       "      <td>11/11/2019 13:42</td>\n",
       "      <td>22026.0</td>\n",
       "      <td>109985.0</td>\n",
       "      <td>False</td>\n",
       "    </tr>\n",
       "    <tr>\n",
       "      <th>9</th>\n",
       "      <td>https://t.co/5NgNEZJm8G https://t.co/R5b47GeEp4</td>\n",
       "      <td>11/11/2019 11:25</td>\n",
       "      <td>10952.0</td>\n",
       "      <td>39455.0</td>\n",
       "      <td>False</td>\n",
       "    </tr>\n",
       "  </tbody>\n",
       "</table>\n",
       "</div>"
      ],
      "text/plain": [
       "                                                text        created_at  \\\n",
       "0                                                NaN               NaN   \n",
       "1                                                NaN               NaN   \n",
       "2                                                NaN               NaN   \n",
       "3  âThe Chinese say (about Trumpâs Trade War ...  11/11/2019 14:25   \n",
       "4  Shifty Adam Schiff will only release doctored ...  11/11/2019 14:20   \n",
       "5  The lawyer for the Whistleblower takes away al...  11/11/2019 14:12   \n",
       "6  So with one Rally by me at the end of the camp...  11/11/2019 14:09   \n",
       "7  Will be meeting with representatives of the Va...  11/11/2019 14:00   \n",
       "8                                HAPPY VETERANS DAY!  11/11/2019 13:42   \n",
       "9    https://t.co/5NgNEZJm8G https://t.co/R5b47GeEp4  11/11/2019 11:25   \n",
       "\n",
       "   retweet_count  favorite_count is_retweet  \n",
       "0            NaN             NaN        NaN  \n",
       "1            NaN             NaN        NaN  \n",
       "2            NaN             NaN        NaN  \n",
       "3         8563.0         30193.0      False  \n",
       "4        15705.0         52024.0      False  \n",
       "5        12191.0         42564.0      False  \n",
       "6         9291.0         36518.0      False  \n",
       "7         9002.0         39450.0      False  \n",
       "8        22026.0        109985.0      False  \n",
       "9        10952.0         39455.0      False  "
      ]
     },
     "execution_count": 3,
     "metadata": {},
     "output_type": "execute_result"
    }
   ],
   "source": [
    "trump_tweets = pd.read_csv(r\"C:\\Users\\munth\\Desktop\\Uni\\Machine Learning\\Project\\Data.csv\", encoding='latin-1')\n",
    "trump_tweets.head(n=10)"
   ]
  },
  {
   "cell_type": "code",
   "execution_count": 4,
   "metadata": {},
   "outputs": [
    {
     "data": {
      "text/plain": [
       "text                 6\n",
       "created_at        1685\n",
       "retweet_count     1685\n",
       "favorite_count    1685\n",
       "is_retweet        1743\n",
       "dtype: int64"
      ]
     },
     "execution_count": 4,
     "metadata": {},
     "output_type": "execute_result"
    }
   ],
   "source": [
    "trump_tweets.isnull().sum()"
   ]
  },
  {
   "cell_type": "code",
   "execution_count": 5,
   "metadata": {},
   "outputs": [
    {
     "data": {
      "text/html": [
       "<div>\n",
       "<style scoped>\n",
       "    .dataframe tbody tr th:only-of-type {\n",
       "        vertical-align: middle;\n",
       "    }\n",
       "\n",
       "    .dataframe tbody tr th {\n",
       "        vertical-align: top;\n",
       "    }\n",
       "\n",
       "    .dataframe thead th {\n",
       "        text-align: right;\n",
       "    }\n",
       "</style>\n",
       "<table border=\"1\" class=\"dataframe\">\n",
       "  <thead>\n",
       "    <tr style=\"text-align: right;\">\n",
       "      <th></th>\n",
       "      <th>text</th>\n",
       "      <th>created_at</th>\n",
       "      <th>retweet_count</th>\n",
       "      <th>favorite_count</th>\n",
       "      <th>is_retweet</th>\n",
       "    </tr>\n",
       "  </thead>\n",
       "  <tbody>\n",
       "    <tr>\n",
       "      <th>3</th>\n",
       "      <td>âThe Chinese say (about Trumpâs Trade War ...</td>\n",
       "      <td>11/11/2019 14:25</td>\n",
       "      <td>8563.0</td>\n",
       "      <td>30193.0</td>\n",
       "      <td>False</td>\n",
       "    </tr>\n",
       "    <tr>\n",
       "      <th>4</th>\n",
       "      <td>Shifty Adam Schiff will only release doctored ...</td>\n",
       "      <td>11/11/2019 14:20</td>\n",
       "      <td>15705.0</td>\n",
       "      <td>52024.0</td>\n",
       "      <td>False</td>\n",
       "    </tr>\n",
       "    <tr>\n",
       "      <th>5</th>\n",
       "      <td>The lawyer for the Whistleblower takes away al...</td>\n",
       "      <td>11/11/2019 14:12</td>\n",
       "      <td>12191.0</td>\n",
       "      <td>42564.0</td>\n",
       "      <td>False</td>\n",
       "    </tr>\n",
       "    <tr>\n",
       "      <th>6</th>\n",
       "      <td>So with one Rally by me at the end of the camp...</td>\n",
       "      <td>11/11/2019 14:09</td>\n",
       "      <td>9291.0</td>\n",
       "      <td>36518.0</td>\n",
       "      <td>False</td>\n",
       "    </tr>\n",
       "    <tr>\n",
       "      <th>7</th>\n",
       "      <td>Will be meeting with representatives of the Va...</td>\n",
       "      <td>11/11/2019 14:00</td>\n",
       "      <td>9002.0</td>\n",
       "      <td>39450.0</td>\n",
       "      <td>False</td>\n",
       "    </tr>\n",
       "    <tr>\n",
       "      <th>8</th>\n",
       "      <td>HAPPY VETERANS DAY!</td>\n",
       "      <td>11/11/2019 13:42</td>\n",
       "      <td>22026.0</td>\n",
       "      <td>109985.0</td>\n",
       "      <td>False</td>\n",
       "    </tr>\n",
       "    <tr>\n",
       "      <th>9</th>\n",
       "      <td>https://t.co/5NgNEZJm8G https://t.co/R5b47GeEp4</td>\n",
       "      <td>11/11/2019 11:25</td>\n",
       "      <td>10952.0</td>\n",
       "      <td>39455.0</td>\n",
       "      <td>False</td>\n",
       "    </tr>\n",
       "    <tr>\n",
       "      <th>10</th>\n",
       "      <td>https://t.co/LEjupyeKxw https://t.co/tox0vh5bbd</td>\n",
       "      <td>11/11/2019 3:44</td>\n",
       "      <td>9282.0</td>\n",
       "      <td>35296.0</td>\n",
       "      <td>False</td>\n",
       "    </tr>\n",
       "    <tr>\n",
       "      <th>11</th>\n",
       "      <td>A great new book just out âThe Plot Against ...</td>\n",
       "      <td>11/11/2019 2:25</td>\n",
       "      <td>10604.0</td>\n",
       "      <td>33071.0</td>\n",
       "      <td>False</td>\n",
       "    </tr>\n",
       "    <tr>\n",
       "      <th>12</th>\n",
       "      <td>If Iran is able to turn over to the U.S. kidna...</td>\n",
       "      <td>11/11/2019 2:25</td>\n",
       "      <td>16935.0</td>\n",
       "      <td>65732.0</td>\n",
       "      <td>False</td>\n",
       "    </tr>\n",
       "  </tbody>\n",
       "</table>\n",
       "</div>"
      ],
      "text/plain": [
       "                                                 text        created_at  \\\n",
       "3   âThe Chinese say (about Trumpâs Trade War ...  11/11/2019 14:25   \n",
       "4   Shifty Adam Schiff will only release doctored ...  11/11/2019 14:20   \n",
       "5   The lawyer for the Whistleblower takes away al...  11/11/2019 14:12   \n",
       "6   So with one Rally by me at the end of the camp...  11/11/2019 14:09   \n",
       "7   Will be meeting with representatives of the Va...  11/11/2019 14:00   \n",
       "8                                 HAPPY VETERANS DAY!  11/11/2019 13:42   \n",
       "9     https://t.co/5NgNEZJm8G https://t.co/R5b47GeEp4  11/11/2019 11:25   \n",
       "10    https://t.co/LEjupyeKxw https://t.co/tox0vh5bbd   11/11/2019 3:44   \n",
       "11  A great new book just out âThe Plot Against ...   11/11/2019 2:25   \n",
       "12  If Iran is able to turn over to the U.S. kidna...   11/11/2019 2:25   \n",
       "\n",
       "    retweet_count  favorite_count is_retweet  \n",
       "3          8563.0         30193.0      False  \n",
       "4         15705.0         52024.0      False  \n",
       "5         12191.0         42564.0      False  \n",
       "6          9291.0         36518.0      False  \n",
       "7          9002.0         39450.0      False  \n",
       "8         22026.0        109985.0      False  \n",
       "9         10952.0         39455.0      False  \n",
       "10         9282.0         35296.0      False  \n",
       "11        10604.0         33071.0      False  \n",
       "12        16935.0         65732.0      False  "
      ]
     },
     "execution_count": 5,
     "metadata": {},
     "output_type": "execute_result"
    }
   ],
   "source": [
    "trump_tweets=trump_tweets.drop([0,1,2],axis=0)#remove first 3 NULL rows\n",
    "trump_tweets.head(n=10)"
   ]
  },
  {
   "cell_type": "code",
   "execution_count": 6,
   "metadata": {},
   "outputs": [
    {
     "name": "stdout",
     "output_type": "stream",
     "text": [
      "<class 'pandas.core.frame.DataFrame'>\n",
      "Int64Index: 39491 entries, 3 to 39493\n",
      "Data columns (total 5 columns):\n",
      "text              39488 non-null object\n",
      "created_at        37809 non-null object\n",
      "retweet_count     37809 non-null float64\n",
      "favorite_count    37809 non-null float64\n",
      "is_retweet        37751 non-null object\n",
      "dtypes: float64(2), object(3)\n",
      "memory usage: 1.8+ MB\n"
     ]
    }
   ],
   "source": [
    "trump_tweets.info()"
   ]
  },
  {
   "cell_type": "code",
   "execution_count": 7,
   "metadata": {},
   "outputs": [
    {
     "data": {
      "text/html": [
       "<div>\n",
       "<style scoped>\n",
       "    .dataframe tbody tr th:only-of-type {\n",
       "        vertical-align: middle;\n",
       "    }\n",
       "\n",
       "    .dataframe tbody tr th {\n",
       "        vertical-align: top;\n",
       "    }\n",
       "\n",
       "    .dataframe thead th {\n",
       "        text-align: right;\n",
       "    }\n",
       "</style>\n",
       "<table border=\"1\" class=\"dataframe\">\n",
       "  <thead>\n",
       "    <tr style=\"text-align: right;\">\n",
       "      <th></th>\n",
       "      <th>text</th>\n",
       "      <th>created_at</th>\n",
       "    </tr>\n",
       "  </thead>\n",
       "  <tbody>\n",
       "    <tr>\n",
       "      <th>3</th>\n",
       "      <td>âThe Chinese say (about Trumpâs Trade War ...</td>\n",
       "      <td>11/11/2019 14:25</td>\n",
       "    </tr>\n",
       "    <tr>\n",
       "      <th>4</th>\n",
       "      <td>Shifty Adam Schiff will only release doctored ...</td>\n",
       "      <td>11/11/2019 14:20</td>\n",
       "    </tr>\n",
       "    <tr>\n",
       "      <th>5</th>\n",
       "      <td>The lawyer for the Whistleblower takes away al...</td>\n",
       "      <td>11/11/2019 14:12</td>\n",
       "    </tr>\n",
       "    <tr>\n",
       "      <th>6</th>\n",
       "      <td>So with one Rally by me at the end of the camp...</td>\n",
       "      <td>11/11/2019 14:09</td>\n",
       "    </tr>\n",
       "    <tr>\n",
       "      <th>7</th>\n",
       "      <td>Will be meeting with representatives of the Va...</td>\n",
       "      <td>11/11/2019 14:00</td>\n",
       "    </tr>\n",
       "  </tbody>\n",
       "</table>\n",
       "</div>"
      ],
      "text/plain": [
       "                                                text        created_at\n",
       "3  âThe Chinese say (about Trumpâs Trade War ...  11/11/2019 14:25\n",
       "4  Shifty Adam Schiff will only release doctored ...  11/11/2019 14:20\n",
       "5  The lawyer for the Whistleblower takes away al...  11/11/2019 14:12\n",
       "6  So with one Rally by me at the end of the camp...  11/11/2019 14:09\n",
       "7  Will be meeting with representatives of the Va...  11/11/2019 14:00"
      ]
     },
     "execution_count": 7,
     "metadata": {},
     "output_type": "execute_result"
    }
   ],
   "source": [
    "trump_tweets.drop(trump_tweets.columns[2], axis=1, inplace=True) #remove last 3 rows favorites,isretweet,retweet count\n",
    "trump_tweets.drop(trump_tweets.columns[2], axis=1, inplace=True)\n",
    "trump_tweets.drop(trump_tweets.columns[2], axis=1, inplace=True)\n",
    "trump_tweets.head()"
   ]
  },
  {
   "cell_type": "code",
   "execution_count": 8,
   "metadata": {},
   "outputs": [
    {
     "data": {
      "text/plain": [
       "text             3\n",
       "created_at    1682\n",
       "dtype: int64"
      ]
     },
     "execution_count": 8,
     "metadata": {},
     "output_type": "execute_result"
    }
   ],
   "source": [
    "trump_tweets.isnull().sum()"
   ]
  },
  {
   "cell_type": "code",
   "execution_count": 9,
   "metadata": {},
   "outputs": [
    {
     "data": {
      "text/plain": [
       "text             0\n",
       "created_at    1679\n",
       "dtype: int64"
      ]
     },
     "execution_count": 9,
     "metadata": {},
     "output_type": "execute_result"
    }
   ],
   "source": [
    "trump_tweets.dropna(subset=['text'], inplace=True) #remove rows with NULL values\n",
    "trump_tweets.isnull().sum()"
   ]
  },
  {
   "cell_type": "code",
   "execution_count": 10,
   "metadata": {
    "scrolled": true
   },
   "outputs": [
    {
     "data": {
      "text/plain": [
       "count             37809\n",
       "unique            35720\n",
       "top       1/5/2015 3:26\n",
       "freq                  5\n",
       "Name: created_at, dtype: object"
      ]
     },
     "execution_count": 10,
     "metadata": {},
     "output_type": "execute_result"
    }
   ],
   "source": [
    "trump_tweets[\"created_at\"].describe()"
   ]
  },
  {
   "cell_type": "code",
   "execution_count": 11,
   "metadata": {},
   "outputs": [],
   "source": [
    "trump_tweets[['date','time']]= trump_tweets.created_at.str.split(\" \",expand=True)\n",
    "#split the timestamp attribute into date and time"
   ]
  },
  {
   "cell_type": "code",
   "execution_count": 12,
   "metadata": {},
   "outputs": [
    {
     "data": {
      "text/html": [
       "<div>\n",
       "<style scoped>\n",
       "    .dataframe tbody tr th:only-of-type {\n",
       "        vertical-align: middle;\n",
       "    }\n",
       "\n",
       "    .dataframe tbody tr th {\n",
       "        vertical-align: top;\n",
       "    }\n",
       "\n",
       "    .dataframe thead th {\n",
       "        text-align: right;\n",
       "    }\n",
       "</style>\n",
       "<table border=\"1\" class=\"dataframe\">\n",
       "  <thead>\n",
       "    <tr style=\"text-align: right;\">\n",
       "      <th></th>\n",
       "      <th>text</th>\n",
       "      <th>created_at</th>\n",
       "      <th>date</th>\n",
       "      <th>time</th>\n",
       "    </tr>\n",
       "  </thead>\n",
       "  <tbody>\n",
       "    <tr>\n",
       "      <th>3</th>\n",
       "      <td>âThe Chinese say (about Trumpâs Trade War ...</td>\n",
       "      <td>11/11/2019 14:25</td>\n",
       "      <td>11/11/2019</td>\n",
       "      <td>14:25</td>\n",
       "    </tr>\n",
       "    <tr>\n",
       "      <th>4</th>\n",
       "      <td>Shifty Adam Schiff will only release doctored ...</td>\n",
       "      <td>11/11/2019 14:20</td>\n",
       "      <td>11/11/2019</td>\n",
       "      <td>14:20</td>\n",
       "    </tr>\n",
       "    <tr>\n",
       "      <th>5</th>\n",
       "      <td>The lawyer for the Whistleblower takes away al...</td>\n",
       "      <td>11/11/2019 14:12</td>\n",
       "      <td>11/11/2019</td>\n",
       "      <td>14:12</td>\n",
       "    </tr>\n",
       "    <tr>\n",
       "      <th>6</th>\n",
       "      <td>So with one Rally by me at the end of the camp...</td>\n",
       "      <td>11/11/2019 14:09</td>\n",
       "      <td>11/11/2019</td>\n",
       "      <td>14:09</td>\n",
       "    </tr>\n",
       "    <tr>\n",
       "      <th>7</th>\n",
       "      <td>Will be meeting with representatives of the Va...</td>\n",
       "      <td>11/11/2019 14:00</td>\n",
       "      <td>11/11/2019</td>\n",
       "      <td>14:00</td>\n",
       "    </tr>\n",
       "  </tbody>\n",
       "</table>\n",
       "</div>"
      ],
      "text/plain": [
       "                                                text        created_at  \\\n",
       "3  âThe Chinese say (about Trumpâs Trade War ...  11/11/2019 14:25   \n",
       "4  Shifty Adam Schiff will only release doctored ...  11/11/2019 14:20   \n",
       "5  The lawyer for the Whistleblower takes away al...  11/11/2019 14:12   \n",
       "6  So with one Rally by me at the end of the camp...  11/11/2019 14:09   \n",
       "7  Will be meeting with representatives of the Va...  11/11/2019 14:00   \n",
       "\n",
       "         date   time  \n",
       "3  11/11/2019  14:25  \n",
       "4  11/11/2019  14:20  \n",
       "5  11/11/2019  14:12  \n",
       "6  11/11/2019  14:09  \n",
       "7  11/11/2019  14:00  "
      ]
     },
     "execution_count": 12,
     "metadata": {},
     "output_type": "execute_result"
    }
   ],
   "source": [
    "trump_tweets.head()"
   ]
  },
  {
   "cell_type": "code",
   "execution_count": 13,
   "metadata": {},
   "outputs": [],
   "source": [
    "trump_tweets.drop(trump_tweets.columns[1], axis=1, inplace=True) #deleted the created_at column"
   ]
  },
  {
   "cell_type": "code",
   "execution_count": 14,
   "metadata": {
    "scrolled": true
   },
   "outputs": [
    {
     "data": {
      "text/html": [
       "<div>\n",
       "<style scoped>\n",
       "    .dataframe tbody tr th:only-of-type {\n",
       "        vertical-align: middle;\n",
       "    }\n",
       "\n",
       "    .dataframe tbody tr th {\n",
       "        vertical-align: top;\n",
       "    }\n",
       "\n",
       "    .dataframe thead th {\n",
       "        text-align: right;\n",
       "    }\n",
       "</style>\n",
       "<table border=\"1\" class=\"dataframe\">\n",
       "  <thead>\n",
       "    <tr style=\"text-align: right;\">\n",
       "      <th></th>\n",
       "      <th>text</th>\n",
       "      <th>date</th>\n",
       "      <th>time</th>\n",
       "    </tr>\n",
       "  </thead>\n",
       "  <tbody>\n",
       "    <tr>\n",
       "      <th>3</th>\n",
       "      <td>âThe Chinese say (about Trumpâs Trade War ...</td>\n",
       "      <td>11/11/2019</td>\n",
       "      <td>14:25</td>\n",
       "    </tr>\n",
       "    <tr>\n",
       "      <th>4</th>\n",
       "      <td>Shifty Adam Schiff will only release doctored ...</td>\n",
       "      <td>11/11/2019</td>\n",
       "      <td>14:20</td>\n",
       "    </tr>\n",
       "    <tr>\n",
       "      <th>5</th>\n",
       "      <td>The lawyer for the Whistleblower takes away al...</td>\n",
       "      <td>11/11/2019</td>\n",
       "      <td>14:12</td>\n",
       "    </tr>\n",
       "    <tr>\n",
       "      <th>6</th>\n",
       "      <td>So with one Rally by me at the end of the camp...</td>\n",
       "      <td>11/11/2019</td>\n",
       "      <td>14:09</td>\n",
       "    </tr>\n",
       "    <tr>\n",
       "      <th>7</th>\n",
       "      <td>Will be meeting with representatives of the Va...</td>\n",
       "      <td>11/11/2019</td>\n",
       "      <td>14:00</td>\n",
       "    </tr>\n",
       "  </tbody>\n",
       "</table>\n",
       "</div>"
      ],
      "text/plain": [
       "                                                text        date   time\n",
       "3  âThe Chinese say (about Trumpâs Trade War ...  11/11/2019  14:25\n",
       "4  Shifty Adam Schiff will only release doctored ...  11/11/2019  14:20\n",
       "5  The lawyer for the Whistleblower takes away al...  11/11/2019  14:12\n",
       "6  So with one Rally by me at the end of the camp...  11/11/2019  14:09\n",
       "7  Will be meeting with representatives of the Va...  11/11/2019  14:00"
      ]
     },
     "execution_count": 14,
     "metadata": {},
     "output_type": "execute_result"
    }
   ],
   "source": [
    "trump_tweets.head()"
   ]
  },
  {
   "cell_type": "code",
   "execution_count": 15,
   "metadata": {
    "scrolled": false
   },
   "outputs": [
    {
     "name": "stdout",
     "output_type": "stream",
     "text": [
      "<class 'pandas.core.frame.DataFrame'>\n",
      "Int64Index: 39488 entries, 3 to 39493\n",
      "Data columns (total 3 columns):\n",
      "text    39488 non-null object\n",
      "date    37809 non-null object\n",
      "time    37809 non-null object\n",
      "dtypes: object(3)\n",
      "memory usage: 1.2+ MB\n"
     ]
    }
   ],
   "source": [
    "trump_tweets.info()"
   ]
  },
  {
   "cell_type": "code",
   "execution_count": 18,
   "metadata": {},
   "outputs": [],
   "source": [
    "#trump_tweets.to_csv(r\"C:\\Users\\munth\\Desktop\\Uni\\Machine Learning\\Project\\Data1.csv\", index=False)# reformatting the time and date columns"
   ]
  },
  {
   "cell_type": "code",
   "execution_count": 16,
   "metadata": {
    "scrolled": true
   },
   "outputs": [
    {
     "data": {
      "text/plain": [
       "text       0\n",
       "date    1679\n",
       "time    1679\n",
       "dtype: int64"
      ]
     },
     "execution_count": 16,
     "metadata": {},
     "output_type": "execute_result"
    }
   ],
   "source": [
    "trump_tweets.isnull().sum()"
   ]
  },
  {
   "cell_type": "code",
   "execution_count": 17,
   "metadata": {},
   "outputs": [
    {
     "data": {
      "text/html": [
       "<div>\n",
       "<style scoped>\n",
       "    .dataframe tbody tr th:only-of-type {\n",
       "        vertical-align: middle;\n",
       "    }\n",
       "\n",
       "    .dataframe tbody tr th {\n",
       "        vertical-align: top;\n",
       "    }\n",
       "\n",
       "    .dataframe thead th {\n",
       "        text-align: right;\n",
       "    }\n",
       "</style>\n",
       "<table border=\"1\" class=\"dataframe\">\n",
       "  <thead>\n",
       "    <tr style=\"text-align: right;\">\n",
       "      <th></th>\n",
       "      <th>text</th>\n",
       "      <th>date</th>\n",
       "      <th>time</th>\n",
       "    </tr>\n",
       "  </thead>\n",
       "  <tbody>\n",
       "    <tr>\n",
       "      <th>3</th>\n",
       "      <td>âThe Chinese say (about Trumpâs Trade War ...</td>\n",
       "      <td>11/11/2019</td>\n",
       "      <td>14:25</td>\n",
       "    </tr>\n",
       "    <tr>\n",
       "      <th>4</th>\n",
       "      <td>Shifty Adam Schiff will only release doctored ...</td>\n",
       "      <td>11/11/2019</td>\n",
       "      <td>14:20</td>\n",
       "    </tr>\n",
       "    <tr>\n",
       "      <th>5</th>\n",
       "      <td>The lawyer for the Whistleblower takes away al...</td>\n",
       "      <td>11/11/2019</td>\n",
       "      <td>14:12</td>\n",
       "    </tr>\n",
       "    <tr>\n",
       "      <th>6</th>\n",
       "      <td>So with one Rally by me at the end of the camp...</td>\n",
       "      <td>11/11/2019</td>\n",
       "      <td>14:09</td>\n",
       "    </tr>\n",
       "    <tr>\n",
       "      <th>7</th>\n",
       "      <td>Will be meeting with representatives of the Va...</td>\n",
       "      <td>11/11/2019</td>\n",
       "      <td>14:00</td>\n",
       "    </tr>\n",
       "  </tbody>\n",
       "</table>\n",
       "</div>"
      ],
      "text/plain": [
       "                                                text        date   time\n",
       "3  âThe Chinese say (about Trumpâs Trade War ...  11/11/2019  14:25\n",
       "4  Shifty Adam Schiff will only release doctored ...  11/11/2019  14:20\n",
       "5  The lawyer for the Whistleblower takes away al...  11/11/2019  14:12\n",
       "6  So with one Rally by me at the end of the camp...  11/11/2019  14:09\n",
       "7  Will be meeting with representatives of the Va...  11/11/2019  14:00"
      ]
     },
     "execution_count": 17,
     "metadata": {},
     "output_type": "execute_result"
    }
   ],
   "source": [
    "trump_tweets.head()"
   ]
  },
  {
   "cell_type": "code",
   "execution_count": 18,
   "metadata": {},
   "outputs": [
    {
     "data": {
      "text/html": [
       "<div>\n",
       "<style scoped>\n",
       "    .dataframe tbody tr th:only-of-type {\n",
       "        vertical-align: middle;\n",
       "    }\n",
       "\n",
       "    .dataframe tbody tr th {\n",
       "        vertical-align: top;\n",
       "    }\n",
       "\n",
       "    .dataframe thead th {\n",
       "        text-align: right;\n",
       "    }\n",
       "</style>\n",
       "<table border=\"1\" class=\"dataframe\">\n",
       "  <thead>\n",
       "    <tr style=\"text-align: right;\">\n",
       "      <th></th>\n",
       "      <th>text</th>\n",
       "      <th>date</th>\n",
       "      <th>Hours</th>\n",
       "    </tr>\n",
       "  </thead>\n",
       "  <tbody>\n",
       "    <tr>\n",
       "      <th>3</th>\n",
       "      <td>âThe Chinese say (about Trumpâs Trade War ...</td>\n",
       "      <td>11/11/2019</td>\n",
       "      <td>14</td>\n",
       "    </tr>\n",
       "    <tr>\n",
       "      <th>4</th>\n",
       "      <td>Shifty Adam Schiff will only release doctored ...</td>\n",
       "      <td>11/11/2019</td>\n",
       "      <td>14</td>\n",
       "    </tr>\n",
       "    <tr>\n",
       "      <th>5</th>\n",
       "      <td>The lawyer for the Whistleblower takes away al...</td>\n",
       "      <td>11/11/2019</td>\n",
       "      <td>14</td>\n",
       "    </tr>\n",
       "    <tr>\n",
       "      <th>6</th>\n",
       "      <td>So with one Rally by me at the end of the camp...</td>\n",
       "      <td>11/11/2019</td>\n",
       "      <td>14</td>\n",
       "    </tr>\n",
       "    <tr>\n",
       "      <th>7</th>\n",
       "      <td>Will be meeting with representatives of the Va...</td>\n",
       "      <td>11/11/2019</td>\n",
       "      <td>14</td>\n",
       "    </tr>\n",
       "  </tbody>\n",
       "</table>\n",
       "</div>"
      ],
      "text/plain": [
       "                                                text        date Hours\n",
       "3  âThe Chinese say (about Trumpâs Trade War ...  11/11/2019    14\n",
       "4  Shifty Adam Schiff will only release doctored ...  11/11/2019    14\n",
       "5  The lawyer for the Whistleblower takes away al...  11/11/2019    14\n",
       "6  So with one Rally by me at the end of the camp...  11/11/2019    14\n",
       "7  Will be meeting with representatives of the Va...  11/11/2019    14"
      ]
     },
     "execution_count": 18,
     "metadata": {},
     "output_type": "execute_result"
    }
   ],
   "source": [
    "trump_tweets[['Hours','Minutes']]= trump_tweets.time.str.split(\":\",expand=True) #split time to hours and minutes\n",
    "trump_tweets.drop(trump_tweets.columns[2], axis=1, inplace=True) #delete the \"time\" column\n",
    "trump_tweets.drop(trump_tweets.columns[3], axis=1, inplace=True) #delete the \"minutes\" column\n",
    "trump_tweets.head()"
   ]
  },
  {
   "cell_type": "code",
   "execution_count": 19,
   "metadata": {},
   "outputs": [
    {
     "data": {
      "text/html": [
       "<div>\n",
       "<style scoped>\n",
       "    .dataframe tbody tr th:only-of-type {\n",
       "        vertical-align: middle;\n",
       "    }\n",
       "\n",
       "    .dataframe tbody tr th {\n",
       "        vertical-align: top;\n",
       "    }\n",
       "\n",
       "    .dataframe thead th {\n",
       "        text-align: right;\n",
       "    }\n",
       "</style>\n",
       "<table border=\"1\" class=\"dataframe\">\n",
       "  <thead>\n",
       "    <tr style=\"text-align: right;\">\n",
       "      <th></th>\n",
       "      <th>text</th>\n",
       "      <th>date</th>\n",
       "      <th>Hours</th>\n",
       "      <th>Is_Trump</th>\n",
       "    </tr>\n",
       "  </thead>\n",
       "  <tbody>\n",
       "    <tr>\n",
       "      <th>3</th>\n",
       "      <td>âThe Chinese say (about Trumpâs Trade War ...</td>\n",
       "      <td>11/11/2019</td>\n",
       "      <td>14</td>\n",
       "      <td>1</td>\n",
       "    </tr>\n",
       "    <tr>\n",
       "      <th>4</th>\n",
       "      <td>Shifty Adam Schiff will only release doctored ...</td>\n",
       "      <td>11/11/2019</td>\n",
       "      <td>14</td>\n",
       "      <td>1</td>\n",
       "    </tr>\n",
       "    <tr>\n",
       "      <th>5</th>\n",
       "      <td>The lawyer for the Whistleblower takes away al...</td>\n",
       "      <td>11/11/2019</td>\n",
       "      <td>14</td>\n",
       "      <td>1</td>\n",
       "    </tr>\n",
       "    <tr>\n",
       "      <th>6</th>\n",
       "      <td>So with one Rally by me at the end of the camp...</td>\n",
       "      <td>11/11/2019</td>\n",
       "      <td>14</td>\n",
       "      <td>1</td>\n",
       "    </tr>\n",
       "    <tr>\n",
       "      <th>7</th>\n",
       "      <td>Will be meeting with representatives of the Va...</td>\n",
       "      <td>11/11/2019</td>\n",
       "      <td>14</td>\n",
       "      <td>1</td>\n",
       "    </tr>\n",
       "  </tbody>\n",
       "</table>\n",
       "</div>"
      ],
      "text/plain": [
       "                                                text        date Hours  \\\n",
       "3  âThe Chinese say (about Trumpâs Trade War ...  11/11/2019    14   \n",
       "4  Shifty Adam Schiff will only release doctored ...  11/11/2019    14   \n",
       "5  The lawyer for the Whistleblower takes away al...  11/11/2019    14   \n",
       "6  So with one Rally by me at the end of the camp...  11/11/2019    14   \n",
       "7  Will be meeting with representatives of the Va...  11/11/2019    14   \n",
       "\n",
       "   Is_Trump  \n",
       "3         1  \n",
       "4         1  \n",
       "5         1  \n",
       "6         1  \n",
       "7         1  "
      ]
     },
     "execution_count": 19,
     "metadata": {},
     "output_type": "execute_result"
    }
   ],
   "source": [
    "trump_tweets['Is_Trump'] = 1\n",
    "trump_tweets.head()"
   ]
  },
  {
   "cell_type": "code",
   "execution_count": 20,
   "metadata": {},
   "outputs": [
    {
     "name": "stdout",
     "output_type": "stream",
     "text": [
      "<class 'pandas.core.frame.DataFrame'>\n",
      "Int64Index: 39488 entries, 3 to 39493\n",
      "Data columns (total 4 columns):\n",
      "text        39488 non-null object\n",
      "date        37809 non-null object\n",
      "Hours       37809 non-null object\n",
      "Is_Trump    39488 non-null int64\n",
      "dtypes: int64(1), object(3)\n",
      "memory usage: 1.5+ MB\n"
     ]
    }
   ],
   "source": [
    "trump_tweets.info()"
   ]
  },
  {
   "cell_type": "code",
   "execution_count": 21,
   "metadata": {},
   "outputs": [],
   "source": [
    "trump_tweets.to_csv(r\"C:\\Users\\munth\\Desktop\\Uni\\Machine Learning\\Project\\Data2.csv\", index=False) #upload final csv to merge"
   ]
  }
 ],
 "metadata": {
  "kernelspec": {
   "display_name": "Python 3",
   "language": "python",
   "name": "python3"
  },
  "language_info": {
   "codemirror_mode": {
    "name": "ipython",
    "version": 3
   },
   "file_extension": ".py",
   "mimetype": "text/x-python",
   "name": "python",
   "nbconvert_exporter": "python",
   "pygments_lexer": "ipython3",
   "version": "3.7.3"
  }
 },
 "nbformat": 4,
 "nbformat_minor": 2
}
